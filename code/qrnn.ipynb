{
 "cells": [
  {
   "cell_type": "code",
   "execution_count": 51,
   "metadata": {},
   "outputs": [],
   "source": [
    "import pennylane as qml\n",
    "from pennylane import numpy as np\n",
    "from itertools import combinations"
   ]
  },
  {
   "cell_type": "code",
   "execution_count": 70,
   "metadata": {},
   "outputs": [],
   "source": [
    "def combs(l: list[int], deg: int) -> list[list[int]]:\n",
    "    # get all combinations of elements in l of length 1 to deg in a list of lists \n",
    "    tmp = [list(combinations(l, d)) for d in range(1, deg + 1)]\n",
    "    # flatten the list of lists\n",
    "    return [item for sublist in tmp for item in sublist]\n",
    "\n",
    "\n",
    "def neuron(theta: list[float], target: int, source_wires: list[int], degree: int = 2) -> None:\n",
    "    sources = combs(source_wires, degree)\n",
    "    assert len(sources) == len(theta)\n",
    "    for i, source in enumerate(sources):\n",
    "        qml.ctrl(qml.RY, control=list(source))(theta[i], wires=target)"
   ]
  },
  {
   "cell_type": "code",
   "execution_count": 68,
   "metadata": {},
   "outputs": [
    {
     "data": {
      "text/plain": [
       "[(1,), (2,), (3,), (1, 2), (1, 3), (2, 3)]"
      ]
     },
     "execution_count": 68,
     "metadata": {},
     "output_type": "execute_result"
    }
   ],
   "source": [
    "def input_cell(\n",
    "    input_word: list[bool], \n",
    "    io_wires: list[int],\n",
    "    state_wires: list[int],\n",
    "    ) -> None:\n",
    "    for i, bit in enumerate(input_word):\n",
    "        if bit:\n",
    "            qml.PauliX(wires=io_wires[i])\n",
    "\n",
    "    for i, state_wire in enumerate(state_wires):\n",
    "        neuron(theta=np.pi/2, target=state_wire, source_wires=io_wires)\n",
    "\n",
    "\n",
    "def work_cell()\n"
   ]
  },
  {
   "cell_type": "code",
   "execution_count": 62,
   "metadata": {},
   "outputs": [
    {
     "data": {
      "text/plain": [
       "[[(0,), (1,), (2,), (3,), (4,)],\n",
       " [(0, 1),\n",
       "  (0, 2),\n",
       "  (0, 3),\n",
       "  (0, 4),\n",
       "  (1, 2),\n",
       "  (1, 3),\n",
       "  (1, 4),\n",
       "  (2, 3),\n",
       "  (2, 4),\n",
       "  (3, 4)]]"
      ]
     },
     "execution_count": 62,
     "metadata": {},
     "output_type": "execute_result"
    }
   ],
   "source": []
  },
  {
   "cell_type": "code",
   "execution_count": null,
   "metadata": {},
   "outputs": [],
   "source": []
  }
 ],
 "metadata": {
  "kernelspec": {
   "display_name": "Python 3.10.6 ('qiskit')",
   "language": "python",
   "name": "python3"
  },
  "language_info": {
   "codemirror_mode": {
    "name": "ipython",
    "version": 3
   },
   "file_extension": ".py",
   "mimetype": "text/x-python",
   "name": "python",
   "nbconvert_exporter": "python",
   "pygments_lexer": "ipython3",
   "version": "3.10.6"
  },
  "orig_nbformat": 4,
  "vscode": {
   "interpreter": {
    "hash": "8fa5cf6c186eec7a3953807d075e029b2e8145478eee241691f9220111da7baa"
   }
  }
 },
 "nbformat": 4,
 "nbformat_minor": 2
}
